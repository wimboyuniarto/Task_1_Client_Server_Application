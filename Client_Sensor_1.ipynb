{
 "cells": [
  {
   "cell_type": "code",
   "execution_count": 1,
   "id": "e2116d7a",
   "metadata": {},
   "outputs": [
    {
     "name": "stdout",
     "output_type": "stream",
     "text": [
      "Server response: Data received by server\n",
      "Server response: Data received by server\n",
      "Server response: Data received by server\n",
      "Server response: Data received by server\n"
     ]
    }
   ],
   "source": [
    "import socket\n",
    "import time\n",
    "\n",
    "def send_occupancy_data(host, port, x, y, occupancy):\n",
    "    # Create a TCP socket\n",
    "    client_socket = socket.socket(socket.AF_INET, socket.SOCK_STREAM)\n",
    "\n",
    "    try:\n",
    "        # Connect to the server\n",
    "        client_socket.connect((host, port))\n",
    "\n",
    "        # Send occupancy data to the server\n",
    "        data = f\"{x} {y} {occupancy}\"\n",
    "        client_socket.send(data.encode('utf-8'))\n",
    "\n",
    "        # Receive acknowledgment from the server\n",
    "        response = client_socket.recv(1024).decode('utf-8')\n",
    "        print(\"Server response:\", response)\n",
    "    except Exception as e:\n",
    "        print(\"Error:\", e)\n",
    "    finally:\n",
    "        # Close the socket\n",
    "        client_socket.close()\n",
    "\n",
    "def main():\n",
    "    # Server settings\n",
    "    host = '127.0.0.1'  # Change this to the server's IP address\n",
    "    port = 9999\n",
    "\n",
    "    # Sample occupancy data for Sensor 1\n",
    "    sensor_data_1 = [\n",
    "        ([1, 2], 0),\n",
    "        ([1, 3], 1),\n",
    "        ([2, 2], 0),\n",
    "        ([2, 3], 0)\n",
    "    ]\n",
    "\n",
    "\n",
    "    # Send occupancy data packages to the server for Sensor 1\n",
    "    for coordinates, occupancy in sensor_data_1:\n",
    "        send_occupancy_data(host, port, coordinates[0], coordinates[1], occupancy)\n",
    "        time.sleep(1)  # Simulate delay between data transmissions\n",
    "\n",
    "    # Wait for the server to process the data\n",
    "    time.sleep(2)\n",
    "\n",
    "if __name__ == \"__main__\":\n",
    "    main()\n"
   ]
  },
  {
   "cell_type": "code",
   "execution_count": null,
   "id": "2aa636aa",
   "metadata": {},
   "outputs": [],
   "source": []
  }
 ],
 "metadata": {
  "kernelspec": {
   "display_name": "Python 3 (ipykernel)",
   "language": "python",
   "name": "python3"
  },
  "language_info": {
   "codemirror_mode": {
    "name": "ipython",
    "version": 3
   },
   "file_extension": ".py",
   "mimetype": "text/x-python",
   "name": "python",
   "nbconvert_exporter": "python",
   "pygments_lexer": "ipython3",
   "version": "3.10.9"
  }
 },
 "nbformat": 4,
 "nbformat_minor": 5
}
